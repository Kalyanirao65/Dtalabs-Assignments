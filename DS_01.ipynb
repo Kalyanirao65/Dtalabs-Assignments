{
  "cells": [
    {
      "cell_type": "markdown",
      "metadata": {
        "id": "view-in-github",
        "colab_type": "text"
      },
      "source": [
        "<a href=\"https://colab.research.google.com/github/Kalyanirao65/Dtalabs-Assignments/blob/main/DS_01.ipynb\" target=\"_parent\"><img src=\"https://colab.research.google.com/assets/colab-badge.svg\" alt=\"Open In Colab\"/></a>"
      ]
    },
    {
      "cell_type": "markdown",
      "metadata": {
        "id": "c-N_q9bsB4e_"
      },
      "source": [
        "# Internship on Data Science at InfraBIM\n",
        "**DS-01: Assignment - Descriptive Analysis on Interns Past Academic Performance**"
      ]
    },
    {
      "cell_type": "markdown",
      "metadata": {
        "id": "cRYjvH4YB4fE"
      },
      "source": [
        "Team No.:<br>\n",
        "Reg. No.:4060<br>\n",
        "Name:B.Kalyani rao<br>\n",
        "Date:9/11/22"
      ]
    },
    {
      "cell_type": "code",
      "execution_count": 3,
      "metadata": {
        "id": "3Dh21C3cJNzB"
      },
      "outputs": [],
      "source": [
        "# Import Libraries\n",
        "import pandas as pd "
      ]
    },
    {
      "cell_type": "markdown",
      "metadata": {
        "id": "6MIgCvrpbb7H"
      },
      "source": [
        "**Loading Dataset**"
      ]
    },
    {
      "cell_type": "code",
      "execution_count": 4,
      "metadata": {
        "colab": {
          "base_uri": "https://localhost:8080/"
        },
        "id": "IwBUtq9NB4fJ",
        "outputId": "7d0810a2-ba74-4874-fe53-fb66c5bfee9d"
      },
      "outputs": [
        {
          "output_type": "stream",
          "name": "stdout",
          "text": [
            "     StudentNo  DEGREE  INTERMEDIATE   SSC                      INTERNSHIP\n",
            "0         1001    8.10          76.0  92.0                    Data Science\n",
            "1         1002    8.10          76.0  92.0      MEAN Stack Web Development\n",
            "2         1003    7.80          94.6  92.0      MEAN Stack Web Development\n",
            "3         1004    9.03          89.5  89.0                    Data Science\n",
            "4         1005    8.38          87.0  90.0      MEAN Stack Web Development\n",
            "..         ...     ...           ...   ...                             ...\n",
            "292       2188    8.70          94.1  93.0                    Data Science\n",
            "293       2189    8.45          90.0  93.0                    Data Science\n",
            "294       2190    8.40          94.9  98.0                    Data Science\n",
            "295       2191    7.06          90.6  88.0  Cloud Computing Services (AWS)\n",
            "296       2192    7.50          95.5  95.0  Cloud Computing Services (AWS)\n",
            "\n",
            "[297 rows x 5 columns]\n"
          ]
        }
      ],
      "source": [
        "# Load the CSV Data into a DataFrame\n",
        "url = \"https://internships-data.s3.ap-south-1.amazonaws.com/interns+data/Enrollments_28092022.csv\"\n",
        "df = pd.read_csv(url)\n",
        "print(df)"
      ]
    },
    {
      "cell_type": "markdown",
      "metadata": {
        "id": "1MBFT_7Cfrvy"
      },
      "source": [
        "**Q1. Identify Variables and their Types (Quantitative or Qualitative)**"
      ]
    },
    {
      "cell_type": "code",
      "execution_count": 5,
      "metadata": {
        "colab": {
          "base_uri": "https://localhost:8080/"
        },
        "id": "IbEqSIy5B4fM",
        "outputId": "2591dc9d-37a2-42fd-f132-f21bdb9209e5"
      },
      "outputs": [
        {
          "output_type": "execute_result",
          "data": {
            "text/plain": [
              "StudentNo         int64\n",
              "DEGREE          float64\n",
              "INTERMEDIATE    float64\n",
              "SSC             float64\n",
              "INTERNSHIP       object\n",
              "dtype: object"
            ]
          },
          "metadata": {},
          "execution_count": 5
        }
      ],
      "source": [
        "df.dtypes"
      ]
    },
    {
      "cell_type": "markdown",
      "metadata": {
        "id": "l7-H38p7B4fN"
      },
      "source": [
        "**<font color='blue'>Q1. Answer </font>**\n",
        "<br>\n",
        "<b>Categorical Data:<b>INTERNSHIP</b><br>\n",
        "<b>Numerical Data:</b><b>DEGREE INTERMEDIATE SSC</b>"
      ]
    },
    {
      "cell_type": "markdown",
      "metadata": {
        "id": "1Xnjjq0QB4fO"
      },
      "source": [
        "**Q2. Size of Data (No. of Rows and Columns)**"
      ]
    },
    {
      "cell_type": "code",
      "execution_count": 6,
      "metadata": {
        "colab": {
          "base_uri": "https://localhost:8080/"
        },
        "id": "KoRKdXlqB4fP",
        "outputId": "5444ccd6-ca64-4e3d-b3f8-a6e91eeebc10"
      },
      "outputs": [
        {
          "output_type": "execute_result",
          "data": {
            "text/plain": [
              "(297, 5)"
            ]
          },
          "metadata": {},
          "execution_count": 6
        }
      ],
      "source": [
        "df.shape"
      ]
    },
    {
      "cell_type": "markdown",
      "metadata": {
        "id": "pWBOavy1B4fP"
      },
      "source": [
        "**<font color='blue'>Q2. Answer </font>**\n",
        "<br>\n",
        "<b>Rows:</b><b>297 <br>\n",
        "<b>Attributes:</b><b>5</b>"
      ]
    },
    {
      "cell_type": "markdown",
      "metadata": {
        "id": "eitfmpUyB4fQ"
      },
      "source": [
        "**Q3. Create Histogram**"
      ]
    },
    {
      "cell_type": "code",
      "execution_count": 9,
      "metadata": {
        "colab": {
          "base_uri": "https://localhost:8080/",
          "height": 317
        },
        "id": "FCm0y4JdB4fR",
        "outputId": "1dfc98b8-7ee4-41c5-8681-5ac8b005a8aa"
      },
      "outputs": [
        {
          "output_type": "execute_result",
          "data": {
            "text/plain": [
              "(array([156.,   0.,   0.,   0.,   0.,  51.,   0.,   0.,   0.,  90.]),\n",
              " array([0. , 0.2, 0.4, 0.6, 0.8, 1. , 1.2, 1.4, 1.6, 1.8, 2. ]),\n",
              " <a list of 10 Patch objects>)"
            ]
          },
          "metadata": {},
          "execution_count": 9
        },
        {
          "output_type": "display_data",
          "data": {
            "text/plain": [
              "<Figure size 432x288 with 1 Axes>"
            ],
            "image/png": "[encoded data removed]"
          },
          "metadata": {
            "needs_background": "light"
          }
        }
      ],
      "source": [
        "# Generate Histogram - It is a graphical representation of a grouped frequency distribution with continuous classes\n",
        "plt.hist(df['INTERNSHIP'])"
      ]
    },
    {
      "cell_type": "markdown",
      "metadata": {
        "id": "IM6iNkH7B4fR"
      },
      "source": [
        "**Q4. Create Pie-Chart to represent the Enrollments for each Internship Program**"
      ]
    },
    {
      "cell_type": "code",
      "execution_count": 8,
      "metadata": {
        "colab": {
          "base_uri": "https://localhost:8080/",
          "height": 404
        },
        "id": "axXoRdUiB4fS",
        "outputId": "080fa8b0-a296-4107-8578-b41427782e4e"
      },
      "outputs": [
        {
          "output_type": "execute_result",
          "data": {
            "text/plain": [
              "([<matplotlib.patches.Wedge at 0x7f7a3c164c10>,\n",
              "  <matplotlib.patches.Wedge at 0x7f7a3c176410>,\n",
              "  <matplotlib.patches.Wedge at 0x7f7a3c1763d0>],\n",
              " [Text(-0.08717493802411254, 1.0965402547013459, 'Data Science'),\n",
              "  Text(-0.48847327200215157, -0.9855931526443922, 'Cloud Computing(AWS)'),\n",
              "  Text(0.9437817631085101, -0.5650451164498216, 'MEAN Stack Development')],\n",
              " [Text(-0.047549966194970476, 0.598112866200734, '52.53'),\n",
              "  Text(-0.2664399665466281, -0.5375962650787593, '30.30'),\n",
              "  Text(0.5147900526046418, -0.30820642715444807, '17.17')])"
            ]
          },
          "metadata": {},
          "execution_count": 8
        },
        {
          "output_type": "display_data",
          "data": {
            "text/plain": [
              "<Figure size 432x288 with 1 Axes>"
            ],
            "image/png": "[encoded data removed]"
          },
          "metadata": {}
        }
      ],
      "source": [
        "import matplotlib.pyplot as plt\n",
        "plt.pie(df['INTERNSHIP'].value_counts(),labels=['Data Science','Cloud Computing(AWS)','MEAN Stack Development'],autopct=\"%0.2f\")"
      ]
    },
    {
      "cell_type": "markdown",
      "metadata": {
        "id": "y4mOzbWpB4fS"
      },
      "source": [
        "**Q5. Find No. of Enrollments for each Internship Program**"
      ]
    },
    {
      "cell_type": "code",
      "execution_count": 10,
      "metadata": {
        "colab": {
          "base_uri": "https://localhost:8080/"
        },
        "id": "rz32zQSpB4fS",
        "outputId": "2963d7da-3abc-4469-fea8-4a8b9b8ad13e"
      },
      "outputs": [
        {
          "output_type": "execute_result",
          "data": {
            "text/plain": [
              "Data Science                      156\n",
              "Cloud Computing Services (AWS)     90\n",
              "MEAN Stack Web Development         51\n",
              "Name: INTERNSHIP, dtype: int64"
            ]
          },
          "metadata": {},
          "execution_count": 10
        }
      ],
      "source": [
        "df['INTERNSHIP'].value_counts()"
      ]
    },
    {
      "cell_type": "markdown",
      "metadata": {
        "id": "9haGViHEB4fT"
      },
      "source": [
        "**Q6. Find Measure of Central Tendency: MEAN, MEDIAN, MODE**"
      ]
    },
    {
      "cell_type": "code",
      "execution_count": 11,
      "metadata": {
        "colab": {
          "base_uri": "https://localhost:8080/"
        },
        "id": "McP-VRANB4fT",
        "outputId": "552ae7e3-624d-43a5-b5c1-3197012675b2"
      },
      "outputs": [
        {
          "output_type": "stream",
          "name": "stderr",
          "text": [
            "/usr/local/lib/python3.7/dist-packages/ipykernel_launcher.py:2: FutureWarning: Dropping of nuisance columns in DataFrame reductions (with 'numeric_only=None') is deprecated; in a future version this will raise TypeError.  Select only valid columns before calling the reduction.\n",
            "  \n"
          ]
        },
        {
          "output_type": "execute_result",
          "data": {
            "text/plain": [
              "StudentNo       1727.585859\n",
              "DEGREE             7.928081\n",
              "INTERMEDIATE      88.662626\n",
              "SSC               88.106734\n",
              "dtype: float64"
            ]
          },
          "metadata": {},
          "execution_count": 11
        }
      ],
      "source": [
        "# MEAN\n",
        "df.mean()"
      ]
    },
    {
      "cell_type": "code",
      "execution_count": 13,
      "metadata": {
        "colab": {
          "base_uri": "https://localhost:8080/"
        },
        "id": "KboTACoIB4fU",
        "outputId": "cb3bd392-4123-483e-9c7f-b461108c7ac6"
      },
      "outputs": [
        {
          "output_type": "stream",
          "name": "stderr",
          "text": [
            "/usr/local/lib/python3.7/dist-packages/ipykernel_launcher.py:3: FutureWarning: Dropping of nuisance columns in DataFrame reductions (with 'numeric_only=None') is deprecated; in a future version this will raise TypeError.  Select only valid columns before calling the reduction.\n",
            "  This is separate from the ipykernel package so we can avoid doing imports until\n"
          ]
        },
        {
          "output_type": "execute_result",
          "data": {
            "text/plain": [
              "StudentNo       2044.0\n",
              "DEGREE             8.0\n",
              "INTERMEDIATE      90.8\n",
              "SSC               90.0\n",
              "dtype: float64"
            ]
          },
          "metadata": {},
          "execution_count": 13
        }
      ],
      "source": [
        "# MEDIAN\n",
        "df.describe()\n",
        "df.median()"
      ]
    },
    {
      "cell_type": "code",
      "execution_count": 14,
      "metadata": {
        "colab": {
          "base_uri": "https://localhost:8080/",
          "height": 424
        },
        "id": "iNY3fcOHB4fU",
        "outputId": "1e3a870a-3a1f-48f9-ac37-81cab869de1f"
      },
      "outputs": [
        {
          "output_type": "execute_result",
          "data": {
            "text/plain": [
              "     StudentNo  DEGREE  INTERMEDIATE   SSC    INTERNSHIP\n",
              "0         1001     7.0          95.0  95.0  Data Science\n",
              "1         1002     NaN           NaN   NaN           NaN\n",
              "2         1003     NaN           NaN   NaN           NaN\n",
              "3         1004     NaN           NaN   NaN           NaN\n",
              "4         1005     NaN           NaN   NaN           NaN\n",
              "..         ...     ...           ...   ...           ...\n",
              "292       2188     NaN           NaN   NaN           NaN\n",
              "293       2189     NaN           NaN   NaN           NaN\n",
              "294       2190     NaN           NaN   NaN           NaN\n",
              "295       2191     NaN           NaN   NaN           NaN\n",
              "296       2192     NaN           NaN   NaN           NaN\n",
              "\n",
              "[297 rows x 5 columns]"
            ],
            "text/html": [
              "\n",
              "  <div id=\"df-390f8fc7-4e05-4692-a0de-aa26a3f6e496\">\n",
              "    <div class=\"colab-df-container\">\n",
              "      <div>\n",
              "<style scoped>\n",
              "    .dataframe tbody tr th:only-of-type {\n",
              "        vertical-align: middle;\n",
              "    }\n",
              "\n",
              "    .dataframe tbody tr th {\n",
              "        vertical-align: top;\n",
              "    }\n",
              "\n",
              "    .dataframe thead th {\n",
              "        text-align: right;\n",
              "    }\n",
              "</style>\n",
              "<table border=\"1\" class=\"dataframe\">\n",
              "  <thead>\n",
              "    <tr style=\"text-align: right;\">\n",
              "      <th></th>\n",
              "      <th>StudentNo</th>\n",
              "      <th>DEGREE</th>\n",
              "      <th>INTERMEDIATE</th>\n",
              "      <th>SSC</th>\n",
              "      <th>INTERNSHIP</th>\n",
              "    </tr>\n",
              "  </thead>\n",
              "  <tbody>\n",
              "    <tr>\n",
              "      <th>0</th>\n",
              "      <td>1001</td>\n",
              "      <td>7.0</td>\n",
              "      <td>95.0</td>\n",
              "      <td>95.0</td>\n",
              "      <td>Data Science</td>\n",
              "    </tr>\n",
              "    <tr>\n",
              "      <th>1</th>\n",
              "      <td>1002</td>\n",
              "      <td>NaN</td>\n",
              "      <td>NaN</td>\n",
              "      <td>NaN</td>\n",
              "      <td>NaN</td>\n",
              "    </tr>\n",
              "    <tr>\n",
              "      <th>2</th>\n",
              "      <td>1003</td>\n",
              "      <td>NaN</td>\n",
              "      <td>NaN</td>\n",
              "      <td>NaN</td>\n",
              "      <td>NaN</td>\n",
              "    </tr>\n",
              "    <tr>\n",
              "      <th>3</th>\n",
              "      <td>1004</td>\n",
              "      <td>NaN</td>\n",
              "      <td>NaN</td>\n",
              "      <td>NaN</td>\n",
              "      <td>NaN</td>\n",
              "    </tr>\n",
              "    <tr>\n",
              "      <th>4</th>\n",
              "      <td>1005</td>\n",
              "      <td>NaN</td>\n",
              "      <td>NaN</td>\n",
              "      <td>NaN</td>\n",
              "      <td>NaN</td>\n",
              "    </tr>\n",
              "    <tr>\n",
              "      <th>...</th>\n",
              "      <td>...</td>\n",
              "      <td>...</td>\n",
              "      <td>...</td>\n",
              "      <td>...</td>\n",
              "      <td>...</td>\n",
              "    </tr>\n",
              "    <tr>\n",
              "      <th>292</th>\n",
              "      <td>2188</td>\n",
              "      <td>NaN</td>\n",
              "      <td>NaN</td>\n",
              "      <td>NaN</td>\n",
              "      <td>NaN</td>\n",
              "    </tr>\n",
              "    <tr>\n",
              "      <th>293</th>\n",
              "      <td>2189</td>\n",
              "      <td>NaN</td>\n",
              "      <td>NaN</td>\n",
              "      <td>NaN</td>\n",
              "      <td>NaN</td>\n",
              "    </tr>\n",
              "    <tr>\n",
              "      <th>294</th>\n",
              "      <td>2190</td>\n",
              "      <td>NaN</td>\n",
              "      <td>NaN</td>\n",
              "      <td>NaN</td>\n",
              "      <td>NaN</td>\n",
              "    </tr>\n",
              "    <tr>\n",
              "      <th>295</th>\n",
              "      <td>2191</td>\n",
              "      <td>NaN</td>\n",
              "      <td>NaN</td>\n",
              "      <td>NaN</td>\n",
              "      <td>NaN</td>\n",
              "    </tr>\n",
              "    <tr>\n",
              "      <th>296</th>\n",
              "      <td>2192</td>\n",
              "      <td>NaN</td>\n",
              "      <td>NaN</td>\n",
              "      <td>NaN</td>\n",
              "      <td>NaN</td>\n",
              "    </tr>\n",
              "  </tbody>\n",
              "</table>\n",
              "<p>297 rows × 5 columns</p>\n",
              "</div>\n",
              "      <button class=\"colab-df-convert\" onclick=\"convertToInteractive('df-390f8fc7-4e05-4692-a0de-aa26a3f6e496')\"\n",
              "              title=\"Convert this dataframe to an interactive table.\"\n",
              "              style=\"display:none;\">\n",
              "        \n",
              "  <svg xmlns=\"http://www.w3.org/2000/svg\" height=\"24px\"viewBox=\"0 0 24 24\"\n",
              "       width=\"24px\">\n",
              "    <path d=\"M0 0h24v24H0V0z\" fill=\"none\"/>\n",
              "    <path d=\"M18.56 5.44l.94 2.06.94-2.06 2.06-.94-2.06-.94-.94-2.06-.94 2.06-2.06.94zm-11 1L8.5 8.5l.94-2.06 2.06-.94-2.06-.94L8.5 2.5l-.94 2.06-2.06.94zm10 10l.94 2.06.94-2.06 2.06-.94-2.06-.94-.94-2.06-.94 2.06-2.06.94z\"/><path d=\"M17.41 7.96l-1.37-1.37c-.4-.4-.92-.59-1.43-.59-.52 0-1.04.2-1.43.59L10.3 9.45l-7.72 7.72c-.78.78-.78 2.05 0 2.83L4 21.41c.39.39.9.59 1.41.59.51 0 1.02-.2 1.41-.59l7.78-7.78 2.81-2.81c.8-.78.8-2.07 0-2.86zM5.41 20L4 18.59l7.72-7.72 1.47 1.35L5.41 20z\"/>\n",
              "  </svg>\n",
              "      </button>\n",
              "      \n",
              "  <style>\n",
              "    .colab-df-container {\n",
              "      display:flex;\n",
              "      flex-wrap:wrap;\n",
              "      gap: 12px;\n",
              "    }\n",
              "\n",
              "    .colab-df-convert {\n",
              "      background-color: #E8F0FE;\n",
              "      border: none;\n",
              "      border-radius: 50%;\n",
              "      cursor: pointer;\n",
              "      display: none;\n",
              "      fill: #1967D2;\n",
              "      height: 32px;\n",
              "      padding: 0 0 0 0;\n",
              "      width: 32px;\n",
              "    }\n",
              "\n",
              "    .colab-df-convert:hover {\n",
              "      background-color: #E2EBFA;\n",
              "      box-shadow: 0px 1px 2px rgba(60, 64, 67, 0.3), 0px 1px 3px 1px rgba(60, 64, 67, 0.15);\n",
              "      fill: #174EA6;\n",
              "    }\n",
              "\n",
              "    [theme=dark] .colab-df-convert {\n",
              "      background-color: #3B4455;\n",
              "      fill: #D2E3FC;\n",
              "    }\n",
              "\n",
              "    [theme=dark] .colab-df-convert:hover {\n",
              "      background-color: #434B5C;\n",
              "      box-shadow: 0px 1px 3px 1px rgba(0, 0, 0, 0.15);\n",
              "      filter: drop-shadow(0px 1px 2px rgba(0, 0, 0, 0.3));\n",
              "      fill: #FFFFFF;\n",
              "    }\n",
              "  </style>\n",
              "\n",
              "      <script>\n",
              "        const buttonEl =\n",
              "          document.querySelector('#df-390f8fc7-4e05-4692-a0de-aa26a3f6e496 button.colab-df-convert');\n",
              "        buttonEl.style.display =\n",
              "          google.colab.kernel.accessAllowed ? 'block' : 'none';\n",
              "\n",
              "        async function convertToInteractive(key) {\n",
              "          const element = document.querySelector('#df-390f8fc7-4e05-4692-a0de-aa26a3f6e496');\n",
              "          const dataTable =\n",
              "            await google.colab.kernel.invokeFunction('convertToInteractive',\n",
              "                                                     [key], {});\n",
              "          if (!dataTable) return;\n",
              "\n",
              "          const docLinkHtml = 'Like what you see? Visit the ' +\n",
              "            '<a target=\"_blank\" href=https://colab.research.google.com/notebooks/data_table.ipynb>data table notebook</a>'\n",
              "            + ' to learn more about interactive tables.';\n",
              "          element.innerHTML = '';\n",
              "          dataTable['output_type'] = 'display_data';\n",
              "          await google.colab.output.renderOutput(dataTable, element);\n",
              "          const docLink = document.createElement('div');\n",
              "          docLink.innerHTML = docLinkHtml;\n",
              "          element.appendChild(docLink);\n",
              "        }\n",
              "      </script>\n",
              "    </div>\n",
              "  </div>\n",
              "  "
            ]
          },
          "metadata": {},
          "execution_count": 14
        }
      ],
      "source": [
        "# MODE\n",
        "df.mode()"
      ]
    },
    {
      "cell_type": "markdown",
      "metadata": {
        "id": "pQd3T09uB4fU"
      },
      "source": [
        "**Q7. Find Measure of Variance: Minimum, Maximum, Range, Mean Deviation, Standard Deviation, Co-efficient of Variation**"
      ]
    },
    {
      "cell_type": "code",
      "execution_count": 15,
      "metadata": {
        "colab": {
          "base_uri": "https://localhost:8080/"
        },
        "id": "idWdV8ORB4fV",
        "outputId": "28ccff6b-1b1d-4bad-bbd3-17ea5172da2d"
      },
      "outputs": [
        {
          "output_type": "execute_result",
          "data": {
            "text/plain": [
              "StudentNo                                 1001\n",
              "DEGREE                                     5.8\n",
              "INTERMEDIATE                              65.0\n",
              "SSC                                       38.4\n",
              "INTERNSHIP      Cloud Computing Services (AWS)\n",
              "dtype: object"
            ]
          },
          "metadata": {},
          "execution_count": 15
        }
      ],
      "source": [
        "# Minimum\n",
        "min_df=df.min()\n",
        "min_df"
      ]
    },
    {
      "cell_type": "code",
      "execution_count": 16,
      "metadata": {
        "colab": {
          "base_uri": "https://localhost:8080/"
        },
        "id": "MHgkG6AvB4fV",
        "outputId": "f6b7c0c5-44c5-4607-d7bf-72d1121ab49f"
      },
      "outputs": [
        {
          "output_type": "execute_result",
          "data": {
            "text/plain": [
              "StudentNo                             2192\n",
              "DEGREE                                9.53\n",
              "INTERMEDIATE                          99.4\n",
              "SSC                                   99.0\n",
              "INTERNSHIP      MEAN Stack Web Development\n",
              "dtype: object"
            ]
          },
          "metadata": {},
          "execution_count": 16
        }
      ],
      "source": [
        "# Maximum\n",
        "max_df=df.max()\n",
        "max_df"
      ]
    },
    {
      "cell_type": "code",
      "execution_count": 17,
      "metadata": {
        "colab": {
          "base_uri": "https://localhost:8080/"
        },
        "id": "xOXLfTb-B4fV",
        "outputId": "38b17ce7-73e8-4f6f-a75a-31203ef72e72"
      },
      "outputs": [
        {
          "output_type": "stream",
          "name": "stdout",
          "text": [
            "Range of StudentNo 1191\n",
            "Range of DEGREE 3.7299999999999995\n",
            "Range of INTERMEDIATE 34.400000000000006\n",
            "Range of SSC 60.6\n"
          ]
        }
      ],
      "source": [
        "# Range\n",
        "range_Stu=max(df.StudentNo)-min(df.StudentNo)\n",
        "range_deg=max(df.DEGREE)-min(df.DEGREE)\n",
        "range_int=max(df.INTERMEDIATE)-min(df.INTERMEDIATE)\n",
        "range_ssc=max(df.SSC)-min(df.SSC)\n",
        "print(\"Range of StudentNo\",range_Stu)\n",
        "print(\"Range of DEGREE\",range_deg)\n",
        "print(\"Range of INTERMEDIATE\",range_int)\n",
        "print(\"Range of SSC\",range_ssc)"
      ]
    },
    {
      "cell_type": "code",
      "execution_count": 18,
      "metadata": {
        "colab": {
          "base_uri": "https://localhost:8080/"
        },
        "id": "awtb0RcjB4fW",
        "outputId": "fab01bdb-484d-4fcf-804f-7fc11c34a2b0"
      },
      "outputs": [
        {
          "output_type": "stream",
          "name": "stderr",
          "text": [
            "/usr/local/lib/python3.7/dist-packages/numpy/core/fromnumeric.py:3579: FutureWarning: Dropping of nuisance columns in DataFrame reductions (with 'numeric_only=None') is deprecated; in a future version this will raise TypeError.  Select only valid columns before calling the reduction.\n",
            "  return std(axis=axis, dtype=dtype, out=out, ddof=ddof, **kwargs)\n"
          ]
        },
        {
          "output_type": "execute_result",
          "data": {
            "text/plain": [
              "StudentNo       501.173552\n",
              "DEGREE            0.784255\n",
              "INTERMEDIATE      7.343339\n",
              "SSC               9.012773\n",
              "dtype: float64"
            ]
          },
          "metadata": {},
          "execution_count": 18
        }
      ],
      "source": [
        "# Standard Deviation\n",
        "import numpy as np\n",
        "std_df=np.std(df)\n",
        "std_df"
      ]
    },
    {
      "cell_type": "code",
      "execution_count": 19,
      "metadata": {
        "colab": {
          "base_uri": "https://localhost:8080/"
        },
        "id": "aHL9GFjjB4fW",
        "outputId": "b27c4372-56e0-4d71-f1e3-334c437161ff"
      },
      "outputs": [
        {
          "output_type": "stream",
          "name": "stderr",
          "text": [
            "/usr/local/lib/python3.7/dist-packages/numpy/core/fromnumeric.py:3438: FutureWarning: Dropping of nuisance columns in DataFrame reductions (with 'numeric_only=None') is deprecated; in a future version this will raise TypeError.  Select only valid columns before calling the reduction.\n",
            "  return mean(axis=axis, dtype=dtype, out=out, **kwargs)\n"
          ]
        },
        {
          "output_type": "execute_result",
          "data": {
            "text/plain": [
              "StudentNo       29.059014\n",
              "DEGREE           9.908812\n",
              "INTERMEDIATE     8.296317\n",
              "SSC             10.246645\n",
              "dtype: float64"
            ]
          },
          "metadata": {},
          "execution_count": 19
        }
      ],
      "source": [
        "# Co-effienct of Variation\n",
        "cv = lambda x: np.std(x, ddof=1) / np.mean(x) * 100 \n",
        "cv(df)"
      ]
    },
    {
      "cell_type": "markdown",
      "metadata": {
        "id": "60818qHOB4fX"
      },
      "source": [
        "**Q8. Measures of Position: Standard Scores, Inter-quartile Range for Degree, Inter and 10th**"
      ]
    },
    {
      "cell_type": "code",
      "execution_count": 20,
      "metadata": {
        "colab": {
          "base_uri": "https://localhost:8080/"
        },
        "id": "t7t6Fa12B4fX",
        "outputId": "2ae40cd0-77bd-43dc-e007-ee4d6159a807"
      },
      "outputs": [
        {
          "output_type": "execute_result",
          "data": {
            "text/plain": [
              "StudentNo       1075.0\n",
              "DEGREE             7.4\n",
              "INTERMEDIATE      83.0\n",
              "SSC               85.0\n",
              "Name: 0.25, dtype: float64"
            ]
          },
          "metadata": {},
          "execution_count": 20
        }
      ],
      "source": [
        "# 1st Quartile\n",
        "Q1 = df.quantile(0.25)\n",
        "Q1"
      ]
    },
    {
      "cell_type": "code",
      "execution_count": 21,
      "metadata": {
        "colab": {
          "base_uri": "https://localhost:8080/"
        },
        "id": "88KRknUuB4fX",
        "outputId": "bf1eba0d-0ab4-475a-efa4-a31a1765b157"
      },
      "outputs": [
        {
          "output_type": "execute_result",
          "data": {
            "text/plain": [
              "StudentNo       2044.0\n",
              "DEGREE             8.0\n",
              "INTERMEDIATE      90.8\n",
              "SSC               90.0\n",
              "Name: 0.5, dtype: float64"
            ]
          },
          "metadata": {},
          "execution_count": 21
        }
      ],
      "source": [
        "# 2nd Quartile or Median\n",
        "Q2=df.quantile(0.5)\n",
        "Q2"
      ]
    },
    {
      "cell_type": "code",
      "execution_count": 22,
      "metadata": {
        "colab": {
          "base_uri": "https://localhost:8080/"
        },
        "id": "T7vUV8zFB4fY",
        "outputId": "79247d6e-885a-49d0-dd5b-e1494e8f5198"
      },
      "outputs": [
        {
          "output_type": "execute_result",
          "data": {
            "text/plain": [
              "StudentNo       2118.00\n",
              "DEGREE             8.56\n",
              "INTERMEDIATE      94.60\n",
              "SSC               95.00\n",
              "Name: 0.75, dtype: float64"
            ]
          },
          "metadata": {},
          "execution_count": 22
        }
      ],
      "source": [
        "# 3rd Quartile\n",
        "Q3=df.quantile(0.75)\n",
        "Q3"
      ]
    },
    {
      "cell_type": "code",
      "execution_count": 23,
      "metadata": {
        "colab": {
          "base_uri": "https://localhost:8080/"
        },
        "id": "CMehjVZfB4fY",
        "outputId": "8f4d0a93-1476-4691-d19d-90e5d6a6b0bb"
      },
      "outputs": [
        {
          "output_type": "execute_result",
          "data": {
            "text/plain": [
              "StudentNo       1043.00\n",
              "DEGREE             1.16\n",
              "INTERMEDIATE      11.60\n",
              "SSC               10.00\n",
              "dtype: float64"
            ]
          },
          "metadata": {},
          "execution_count": 23
        }
      ],
      "source": [
        "# Inter-Quartile = Q3 - Q1\n",
        "IQR=Q3-Q1\n",
        "IQR"
      ]
    },
    {
      "cell_type": "markdown",
      "metadata": {
        "id": "RPmGFY5fB4fY"
      },
      "source": [
        "**Q9. Create Box Plot and Identify Outliers**"
      ]
    },
    {
      "cell_type": "code",
      "execution_count": 24,
      "metadata": {
        "colab": {
          "base_uri": "https://localhost:8080/",
          "height": 404
        },
        "id": "i-RBaGeQB4fY",
        "outputId": "5a52517a-6c6d-40a8-a95d-fe1a9afd8f87"
      },
      "outputs": [
        {
          "output_type": "execute_result",
          "data": {
            "text/plain": [
              "{'whiskers': [<matplotlib.lines.Line2D at 0x7f7a3ae5e590>,\n",
              "  <matplotlib.lines.Line2D at 0x7f7a3ae5ead0>],\n",
              " 'caps': [<matplotlib.lines.Line2D at 0x7f7a3ae69050>,\n",
              "  <matplotlib.lines.Line2D at 0x7f7a3ae69590>],\n",
              " 'boxes': [<matplotlib.lines.Line2D at 0x7f7a3ae5e050>],\n",
              " 'medians': [<matplotlib.lines.Line2D at 0x7f7a3ae69ad0>],\n",
              " 'fliers': [<matplotlib.lines.Line2D at 0x7f7a3adf2050>],\n",
              " 'means': []}"
            ]
          },
          "metadata": {},
          "execution_count": 24
        },
        {
          "output_type": "display_data",
          "data": {
            "text/plain": [
              "<Figure size 432x288 with 1 Axes>"
            ],
            "image/png": "[encoded data removed]"
          },
          "metadata": {
            "needs_background": "light"
          }
        }
      ],
      "source": [
        "plt.boxplot(df.StudentNo)\n",
        "plt.boxplot(df.DEGREE)\n",
        "plt.boxplot(df.INTERMEDIATE)\n",
        "plt.boxplot(df.SSC)"
      ]
    },
    {
      "cell_type": "markdown",
      "metadata": {
        "id": "11OgKxo5B4fY"
      },
      "source": [
        "**Q10. Identify No. of Students with 90% percentile for Degree, Inter and 10th Class**"
      ]
    },
    {
      "cell_type": "code",
      "execution_count": 25,
      "metadata": {
        "colab": {
          "base_uri": "https://localhost:8080/"
        },
        "id": "aYjmtDmaB4fY",
        "outputId": "457acd3b-eec3-4056-93f3-3590f13779e0"
      },
      "outputs": [
        {
          "output_type": "execute_result",
          "data": {
            "text/plain": [
              "StudentNo       2162.4\n",
              "DEGREE             8.9\n",
              "INTERMEDIATE      96.5\n",
              "SSC               97.0\n",
              "Name: 0.9, dtype: float64"
            ]
          },
          "metadata": {},
          "execution_count": 25
        }
      ],
      "source": [
        "# 90th Percentile or Quantile\n",
        "df.quantile(0.9)"
      ]
    },
    {
      "cell_type": "code",
      "execution_count": null,
      "metadata": {
        "id": "wfzkHVBEB4fZ"
      },
      "outputs": [],
      "source": []
    }
  ],
  "metadata": {
    "colab": {
      "collapsed_sections": [],
      "provenance": [],
      "include_colab_link": true
    },
    "kernelspec": {
      "display_name": "conda_python3",
      "language": "python",
      "name": "conda_python3"
    },
    "language_info": {
      "codemirror_mode": {
        "name": "ipython",
        "version": 3
      },
      "file_extension": ".py",
      "mimetype": "text/x-python",
      "name": "python",
      "nbconvert_exporter": "python",
      "pygments_lexer": "ipython3",
      "version": "3.8.12"
    }
  },
  "nbformat": 4,
  "nbformat_minor": 0
}