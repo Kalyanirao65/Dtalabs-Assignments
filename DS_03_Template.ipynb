{
  "cells": [
    {
      "cell_type": "markdown",
      "metadata": {
        "id": "view-in-github",
        "colab_type": "text"
      },
      "source": [
        "<a href=\"https://colab.research.google.com/github/Kalyanirao65/Dtalabs-Assignments/blob/main/DS_03_Template.ipynb\" target=\"_parent\"><img src=\"https://colab.research.google.com/assets/colab-badge.svg\" alt=\"Open In Colab\"/></a>"
      ]
    },
    {
      "cell_type": "markdown",
      "metadata": {
        "id": "FeF9DRuaZcKJ"
      },
      "source": [
        "# Internship on Data Science at InfraBIM\n",
        "**DS-03: Assignment - Descriptive Analysis on Interns Sign-In Data**"
      ]
    },
    {
      "cell_type": "markdown",
      "metadata": {
        "id": "L7Alov9xZcKN"
      },
      "source": [
        "Team No.:<br>\n",
        "Reg. No.:4060<br>\n",
        "Name:B.Kalyani Rao<br>\n",
        "Date:28-11-2022"
      ]
    },
    {
      "cell_type": "code",
      "execution_count": 2,
      "metadata": {
        "id": "3Dh21C3cJNzB"
      },
      "outputs": [],
      "source": [
        "# Import Libraries\n",
        "import pandas as pd "
      ]
    },
    {
      "cell_type": "markdown",
      "metadata": {
        "id": "6MIgCvrpbb7H"
      },
      "source": [
        "**Loading Dataset**"
      ]
    },
    {
      "cell_type": "code",
      "execution_count": 3,
      "metadata": {
        "colab": {
          "base_uri": "https://localhost:8080/"
        },
        "id": "kCI0iYb5ZcKQ",
        "outputId": "cac7c876-2729-4a86-ff8c-232dc515c004"
      },
      "outputs": [
        {
          "output_type": "stream",
          "name": "stdout",
          "text": [
            "       Id        LoggedInOn                          Internship\n",
            "0    1064  03-10-2022 20:07           Internships: Data Science\n",
            "1    1065  03-10-2022 20:07           Internships: Data Science\n",
            "2    1066  03-10-2022 20:10  Internships: Cloud Computing (AWS)\n",
            "3    1067  03-10-2022 20:11           Internships: Data Science\n",
            "4    1068  03-10-2022 20:16           Internships: Data Science\n",
            "..    ...               ...                                 ...\n",
            "411  1821  21-10-2022 19:22  Internships: Cloud Computing (AWS)\n",
            "412  1825  21-10-2022 20:00  Internships: Cloud Computing (AWS)\n",
            "413  1835  21-10-2022 21:41           Internships: Data Science\n",
            "414  1840  22-10-2022 10:04           Internships: Data Science\n",
            "415  1841  22-10-2022 10:14           Internships: Data Science\n",
            "\n",
            "[416 rows x 3 columns]\n"
          ]
        }
      ],
      "source": [
        "# Load the CSV Data into a DataFrame\n",
        "url = \"https://internships-data.s3.ap-south-1.amazonaws.com/Assignments/Data+Science/data/SignInLog_22102022.csv\"\n",
        "df = pd.read_csv(url)\n",
        "print(df)"
      ]
    },
    {
      "cell_type": "markdown",
      "metadata": {
        "id": "1MBFT_7Cfrvy"
      },
      "source": [
        "**Q1. Identify Variables and their Types (Quantitative or Qualitative)**"
      ]
    },
    {
      "cell_type": "code",
      "execution_count": 4,
      "metadata": {
        "colab": {
          "base_uri": "https://localhost:8080/"
        },
        "id": "fNoS8ev8ZcKR",
        "outputId": "e62b5694-1312-44d1-8072-ab9892989e59"
      },
      "outputs": [
        {
          "output_type": "execute_result",
          "data": {
            "text/plain": [
              "Id             int64\n",
              "LoggedInOn    object\n",
              "Internship    object\n",
              "dtype: object"
            ]
          },
          "metadata": {},
          "execution_count": 4
        }
      ],
      "source": [
        "df.dtypes"
      ]
    },
    {
      "cell_type": "markdown",
      "metadata": {
        "id": "O1PrqA0cZcKS"
      },
      "source": [
        "**<font color='blue'>Q1. Answer </font>**\n",
        "<br>\n",
        "<b>Categorical Data:</b>LoggedInOn Internship<br>\n",
        "<b>Numerical Data:Id</b>"
      ]
    },
    {
      "cell_type": "markdown",
      "metadata": {
        "id": "f_ZB4Y48ZcKS"
      },
      "source": [
        "**Q2. Size of Data (No. of Rows and Columns)**"
      ]
    },
    {
      "cell_type": "code",
      "execution_count": 5,
      "metadata": {
        "colab": {
          "base_uri": "https://localhost:8080/"
        },
        "id": "IIuagL48ZcKS",
        "outputId": "00283ed0-632d-4f1e-91d9-edb7a7a4c531"
      },
      "outputs": [
        {
          "output_type": "execute_result",
          "data": {
            "text/plain": [
              "(416, 3)"
            ]
          },
          "metadata": {},
          "execution_count": 5
        }
      ],
      "source": [
        "df.shape"
      ]
    },
    {
      "cell_type": "markdown",
      "metadata": {
        "id": "quM0p01vZcKT"
      },
      "source": [
        "**<font color='blue'>Q2. Answer </font>**\n",
        "<br>\n",
        "<b>Rows:</b>416 <br>\n",
        "<b>Attributes:3</b>"
      ]
    },
    {
      "cell_type": "markdown",
      "metadata": {
        "id": "_xyZwFVBZcKT"
      },
      "source": [
        "**Q3. Create Pie-Chart to represent the Enrollments for each Internship Program**"
      ]
    },
    {
      "cell_type": "code",
      "execution_count": 6,
      "metadata": {
        "colab": {
          "base_uri": "https://localhost:8080/",
          "height": 404
        },
        "id": "xvONvB34ZcKT",
        "outputId": "526012b9-671f-4e6d-c9fb-0f6089319b72"
      },
      "outputs": [
        {
          "output_type": "execute_result",
          "data": {
            "text/plain": [
              "([<matplotlib.patches.Wedge at 0x7f8e9c2772d0>,\n",
              "  <matplotlib.patches.Wedge at 0x7f8e9c277a90>,\n",
              "  <matplotlib.patches.Wedge at 0x7f8e9c289350>],\n",
              " [Text(-0.8503114986990108, 0.6978326125800101, 'Data Science'),\n",
              "  Text(0.6652354590525031, -0.8760489621129665, 'Cloud Computing(AWS)'),\n",
              "  Text(1.0699935419581417, -0.25517409776047123, 'MEAN Stack Development')],\n",
              " [Text(-0.4638062720176422, 0.38063597049818726, '78.12'),\n",
              "  Text(0.36285570493772895, -0.47784488842525435, '14.42'),\n",
              "  Text(0.5836328410680772, -0.13918587150571154, '7.45')])"
            ]
          },
          "metadata": {},
          "execution_count": 6
        },
        {
          "output_type": "display_data",
          "data": {
            "text/plain": [
              "<Figure size 432x288 with 1 Axes>"
            ],
            "image/png": "[encoded data removed]"
          },
          "metadata": {}
        }
      ],
      "source": [
        "import matplotlib.pyplot as plt\n",
        "plt.pie(df['Internship'].value_counts(),labels=['Data Science','Cloud Computing(AWS)','MEAN Stack Development'],autopct=\"%0.2f\")"
      ]
    },
    {
      "cell_type": "markdown",
      "metadata": {
        "id": "YL3Fr9k2ZcKT"
      },
      "source": [
        "**Q4. Find No. of Enrollments for each Internship Program**"
      ]
    },
    {
      "cell_type": "code",
      "execution_count": 7,
      "metadata": {
        "colab": {
          "base_uri": "https://localhost:8080/"
        },
        "id": "--09iNXqZcKU",
        "outputId": "6f3e27f7-fc1e-4ea4-f79e-5e81af9723fe"
      },
      "outputs": [
        {
          "output_type": "execute_result",
          "data": {
            "text/plain": [
              "Internships: Data Science                  325\n",
              "Internships: Cloud Computing (AWS)          60\n",
              "Internships: MEAN Stack Web Development     31\n",
              "Name: Internship, dtype: int64"
            ]
          },
          "metadata": {},
          "execution_count": 7
        }
      ],
      "source": [
        "df['Internship'].value_counts()"
      ]
    },
    {
      "cell_type": "markdown",
      "metadata": {
        "id": "RKv1PNzMZcKU"
      },
      "source": [
        "**Q5. Create Bar Chart and Line Chart representing Log-in Count (y-axis) vs Hours (x-axis)**"
      ]
    },
    {
      "cell_type": "code",
      "execution_count": 8,
      "metadata": {
        "id": "nRn8yUrRZcKU",
        "colab": {
          "base_uri": "https://localhost:8080/",
          "height": 282
        },
        "outputId": "297195cb-3016-4866-a68a-3b67e165b58a"
      },
      "outputs": [
        {
          "output_type": "execute_result",
          "data": {
            "text/plain": [
              "<BarContainer object of 416 artists>"
            ]
          },
          "metadata": {},
          "execution_count": 8
        },
        {
          "output_type": "display_data",
          "data": {
            "text/plain": [
              "<Figure size 432x288 with 1 Axes>"
            ],
            "image/png": "[encoded data removed]"
          },
          "metadata": {
            "needs_background": "light"
          }
        }
      ],
      "source": [
        "plt.bar(df['LoggedInOn'],width=0.8,height=2)"
      ]
    },
    {
      "cell_type": "code",
      "source": [
        "plt.xlabel('Hours')"
      ],
      "metadata": {
        "colab": {
          "base_uri": "https://localhost:8080/",
          "height": 300
        },
        "id": "pvLFSdAzvgVA",
        "outputId": "6374046b-be1c-44ec-9d6d-51ce487ab58c"
      },
      "execution_count": 9,
      "outputs": [
        {
          "output_type": "execute_result",
          "data": {
            "text/plain": [
              "Text(0.5, 0, 'Hours')"
            ]
          },
          "metadata": {},
          "execution_count": 9
        },
        {
          "output_type": "display_data",
          "data": {
            "text/plain": [
              "<Figure size 432x288 with 1 Axes>"
            ],
            "image/png": "[encoded data removed]"
          },
          "metadata": {
            "needs_background": "light"
          }
        }
      ]
    },
    {
      "cell_type": "code",
      "source": [
        "plt.ylabel('Log-in Count')"
      ],
      "metadata": {
        "id": "ir4GnNrmvlOT",
        "outputId": "04d3fce8-d7e1-401e-d1bf-4a96da102ce0",
        "colab": {
          "base_uri": "https://localhost:8080/",
          "height": 286
        }
      },
      "execution_count": 10,
      "outputs": [
        {
          "output_type": "execute_result",
          "data": {
            "text/plain": [
              "Text(0, 0.5, 'Log-in Count')"
            ]
          },
          "metadata": {},
          "execution_count": 10
        },
        {
          "output_type": "display_data",
          "data": {
            "text/plain": [
              "<Figure size 432x288 with 1 Axes>"
            ],
            "image/png": "[encoded data removed]"
          },
          "metadata": {
            "needs_background": "light"
          }
        }
      ]
    },
    {
      "cell_type": "markdown",
      "metadata": {
        "id": "YiTvVx6KZcKU"
      },
      "source": [
        "**Q6. Identify which hour is having more no. of Sign-Ins**"
      ]
    },
    {
      "cell_type": "code",
      "execution_count": 21,
      "metadata": {
        "id": "ONeW_WVpZcKV"
      },
      "outputs": [],
      "source": []
    },
    {
      "cell_type": "code",
      "source": [
        "pip install sklearn.SimpleImputer"
      ],
      "metadata": {
        "colab": {
          "base_uri": "https://localhost:8080/"
        },
        "id": "R1d_xmlAHZLU",
        "outputId": "ce1a7909-27d2-439a-d233-0c5091d4d363"
      },
      "execution_count": 15,
      "outputs": [
        {
          "output_type": "stream",
          "name": "stdout",
          "text": [
            "Looking in indexes: https://pypi.org/simple, https://us-python.pkg.dev/colab-wheels/public/simple/\n",
            "\u001b[31mERROR: Could not find a version that satisfies the requirement sklearn.SimpleImputer (from versions: none)\u001b[0m\n",
            "\u001b[31mERROR: No matching distribution found for sklearn.SimpleImputer\u001b[0m\n"
          ]
        }
      ]
    },
    {
      "cell_type": "code",
      "source": [
        "df['LoggedInOn'].value_counts().head(1)"
      ],
      "metadata": {
        "colab": {
          "base_uri": "https://localhost:8080/"
        },
        "id": "sJKZ0TgnFKCP",
        "outputId": "add28cca-9b45-43dc-c9bd-4304a1583c64"
      },
      "execution_count": 22,
      "outputs": [
        {
          "output_type": "execute_result",
          "data": {
            "text/plain": [
              "09-10-2022 16:41    4\n",
              "Name: LoggedInOn, dtype: int64"
            ]
          },
          "metadata": {},
          "execution_count": 22
        }
      ]
    },
    {
      "cell_type": "markdown",
      "metadata": {
        "id": "HfG7eqhxZcKV"
      },
      "source": [
        "**Q7. Any other Insights about Malpractice**"
      ]
    },
    {
      "cell_type": "code",
      "execution_count": null,
      "metadata": {
        "id": "27Www-ilZcKV"
      },
      "outputs": [],
      "source": []
    }
  ],
  "metadata": {
    "colab": {
      "provenance": [],
      "include_colab_link": true
    },
    "kernelspec": {
      "display_name": "conda_python3",
      "language": "python",
      "name": "conda_python3"
    },
    "language_info": {
      "codemirror_mode": {
        "name": "ipython",
        "version": 3
      },
      "file_extension": ".py",
      "mimetype": "text/x-python",
      "name": "python",
      "nbconvert_exporter": "python",
      "pygments_lexer": "ipython3",
      "version": "3.8.12"
    }
  },
  "nbformat": 4,
  "nbformat_minor": 0
}